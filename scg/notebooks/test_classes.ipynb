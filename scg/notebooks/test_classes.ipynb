{
 "cells": [
  {
   "cell_type": "code",
   "execution_count": 1,
   "metadata": {},
   "outputs": [],
   "source": [
    "from django.test import Client\n",
    "from django.contrib.auth.models import AnonymousUser, User\n",
    "from django.test import RequestFactory, TestCase\n",
    "#from scg_app.views import ClasesView"
   ]
  },
  {
   "cell_type": "code",
   "execution_count": null,
   "metadata": {},
   "outputs": [],
   "source": [
    "class LoginTest(TestCase):\n",
    "\n",
    "    def test_login_available(self):\n",
    "        client = Client()\n",
    "        response = client.get('/')\n",
    "        self.assertEqual(response.status_code, 302)\n",
    "\n",
    "        response = client.get('/', follow=True)\n",
    "        self.assertNotEqual(response.redirect_chain, [])\n",
    "\n",
    "        response = client.get(response.redirect_chain[0][0])\n",
    "        self.assertEqual(response.status_code, 200)\n",
    "\n",
    "    def test_login(self):\n",
    "        user = User.objects.create_user(\n",
    "            username='usertest', email='usermail@…', password='userpswd',\n",
    "            is_superuser=True)\n",
    "\n",
    "        client = Client()\n",
    "        response = client.get('/accounts/login/')\n",
    "        client.force_login(user)\n",
    "\n",
    "        response = client.get('/')\n",
    "        self.assertEqual(response.status_code, 200)\n",
    "\n",
    "        client.logout()"
   ]
  }
 ],
 "metadata": {
  "kernelspec": {
   "display_name": "Django Shell-Plus",
   "language": "python",
   "name": "django_extensions"
  },
  "language_info": {
   "codemirror_mode": {
    "name": "ipython",
    "version": 3
   },
   "file_extension": ".py",
   "mimetype": "text/x-python",
   "name": "python",
   "nbconvert_exporter": "python",
   "pygments_lexer": "ipython3",
   "version": "3.8.2"
  }
 },
 "nbformat": 4,
 "nbformat_minor": 4
}
