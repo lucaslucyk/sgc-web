{
 "cells": [
  {
   "cell_type": "code",
   "execution_count": 1,
   "metadata": {},
   "outputs": [],
   "source": [
    "from apps.scg_app import models"
   ]
  },
  {
   "cell_type": "code",
   "execution_count": 2,
   "metadata": {},
   "outputs": [],
   "source": [
    "act = models.Actividad.objects.all().first()\n",
    "sede = models.Sede.objects.all().first()\n",
    "saldo = models.Saldo.objects.all().first()\n",
    "empleado = models.Empleado.objects.all().first()"
   ]
  },
  {
   "cell_type": "code",
   "execution_count": 3,
   "metadata": {},
   "outputs": [],
   "source": [
    "clase = models.Clase.objects.filter(\n",
    "    fecha__gte=saldo.desde,\n",
    "    fecha__lte=saldo.hasta,\n",
    "    sede=saldo.sede,\n",
    "    actividad=saldo.actividad).first()"
   ]
  },
  {
   "cell_type": "code",
   "execution_count": 4,
   "metadata": {},
   "outputs": [
    {
     "data": {
      "text/plain": [
       "True"
      ]
     },
     "execution_count": 4,
     "metadata": {},
     "output_type": "execute_result"
    }
   ],
   "source": [
    "(saldo.sede, saldo.actividad) == (clase.sede, clase.actividad)\n",
    "\n",
    "models.Saldo.check_saldos(\n",
    "    _sede=clase.sede,\n",
    "    _actividad=clase.actividad,\n",
    "    _desde=clase.fecha,\n",
    "    _hasta=clase.fecha,\n",
    ")"
   ]
  },
  {
   "cell_type": "code",
   "execution_count": null,
   "metadata": {},
   "outputs": [],
   "source": []
  }
 ],
 "metadata": {
  "kernelspec": {
   "display_name": "Django Shell-Plus",
   "language": "python",
   "name": "django_extensions"
  },
  "language_info": {
   "codemirror_mode": {
    "name": "ipython",
    "version": 3
   },
   "file_extension": ".py",
   "mimetype": "text/x-python",
   "name": "python",
   "nbconvert_exporter": "python",
   "pygments_lexer": "ipython3",
   "version": "3.8.2"
  }
 },
 "nbformat": 4,
 "nbformat_minor": 4
}
