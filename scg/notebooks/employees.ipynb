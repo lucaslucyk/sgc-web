{
 "cells": [
  {
   "cell_type": "code",
   "execution_count": 2,
   "metadata": {},
   "outputs": [],
   "source": [
    "from django.conf import settings\n",
    "from apps.scg_app import models"
   ]
  },
  {
   "cell_type": "code",
   "execution_count": 3,
   "metadata": {},
   "outputs": [
    {
     "name": "stdout",
     "output_type": "stream",
     "text": [
      "Fútbol, el Lunes 2020-06-29 de 04:30 a 08:30 para Test2, Test2\n"
     ]
    }
   ],
   "source": [
    "clase = models.Clase.objects.get(pk=413)\n",
    "print(clase)"
   ]
  },
  {
   "cell_type": "code",
   "execution_count": 4,
   "metadata": {},
   "outputs": [
    {
     "name": "stdout",
     "output_type": "stream",
     "text": [
      "(('21:00', '23:59'), ('00:00', '06:00'))\n",
      "4.0 , 2.5 , 1.5\n"
     ]
    }
   ],
   "source": [
    "print(settings.HORARIOS_NOCTURNOS)\n",
    "#print(clase.get_time_intersection(settings.HORARIOS_NOCTURNOS))\n",
    "print(clase.horas, \",\", clase.horas_diurnas, \",\", clase.horas_nocturnas)"
   ]
  },
  {
   "cell_type": "code",
   "execution_count": null,
   "metadata": {},
   "outputs": [],
   "source": []
  }
 ],
 "metadata": {
  "kernelspec": {
   "display_name": "Django Shell-Plus",
   "language": "python",
   "name": "django_extensions"
  },
  "language_info": {
   "codemirror_mode": {
    "name": "ipython",
    "version": 3
   },
   "file_extension": ".py",
   "mimetype": "text/x-python",
   "name": "python",
   "nbconvert_exporter": "python",
   "pygments_lexer": "ipython3",
   "version": "3.8.2"
  }
 },
 "nbformat": 4,
 "nbformat_minor": 4
}
