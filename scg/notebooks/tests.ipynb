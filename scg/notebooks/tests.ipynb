{
 "cells": [
  {
   "cell_type": "code",
   "execution_count": 4,
   "metadata": {},
   "outputs": [],
   "source": [
    "from django.test import Client\n",
    "from django.contrib.auth.models import AnonymousUser, User\n",
    "from django.test import RequestFactory, TestCase\n",
    "\n",
    "from scg_app.views import ClasesView"
   ]
  },
  {
   "cell_type": "code",
   "execution_count": 19,
   "metadata": {},
   "outputs": [],
   "source": [
    "#client = Client()\n",
    "\n",
    "factory = RequestFactory()\n",
    "user = User.objects.get(pk=1) #superuser\n",
    "# user = User.objects.create_user(\n",
    "#     username='testing', email='testing@gmail.com', password='top_secret')"
   ]
  },
  {
   "cell_type": "code",
   "execution_count": 20,
   "metadata": {},
   "outputs": [
    {
     "name": "stdout",
     "output_type": "stream",
     "text": [
      "b'{}'\n"
     ]
    }
   ],
   "source": [
    "#response = client.get('/accounts/login/')\n",
    "#response.status_code\n",
    "\n",
    "#request = factory.post('/clases/monitor/')\n",
    "data = {'rpp':10}\n",
    "request = factory.post('/clases/monitor/', content_type='application/json')\n",
    "request.user = user\n",
    "request.data = data\n",
    "\n",
    "print(request.body)\n",
    "\n",
    "# response = ClasesView.as_view()(request)\n",
    "# response.status_code"
   ]
  },
  {
   "cell_type": "code",
   "execution_count": null,
   "metadata": {},
   "outputs": [],
   "source": []
  }
 ],
 "metadata": {
  "kernelspec": {
   "display_name": "Django Shell-Plus",
   "language": "python",
   "name": "django_extensions"
  },
  "language_info": {
   "codemirror_mode": {
    "name": "ipython",
    "version": 3
   },
   "file_extension": ".py",
   "mimetype": "text/x-python",
   "name": "python",
   "nbconvert_exporter": "python",
   "pygments_lexer": "ipython3",
   "version": "3.8.2"
  }
 },
 "nbformat": 4,
 "nbformat_minor": 4
}
