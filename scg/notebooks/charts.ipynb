{
 "cells": [
  {
   "cell_type": "code",
   "execution_count": 46,
   "metadata": {},
   "outputs": [],
   "source": [
    "import datetime\n",
    "import json\n",
    "from dateutil.relativedelta import relativedelta\n",
    "from django.db.models.functions import TruncDay, Trunc, TruncMonth\n",
    "from django.db.models import Count\n",
    "from django.core.serializers.json import DjangoJSONEncoder\n",
    "from django.http import JsonResponse\n",
    "from apps.scg_app import models"
   ]
  },
  {
   "cell_type": "code",
   "execution_count": 40,
   "metadata": {},
   "outputs": [
    {
     "data": {
      "text/plain": [
       "(datetime.date(2020, 1, 1), datetime.date(2020, 6, 30))"
      ]
     },
     "execution_count": 40,
     "metadata": {},
     "output_type": "execute_result"
    }
   ],
   "source": [
    "today = datetime.date.today()\n",
    "date_ini = today - relativedelta(months=+6, days=+today.day-1)\n",
    "date_end = today - relativedelta(days=+today.day)\n",
    "\n",
    "date_ini, date_end"
   ]
  },
  {
   "cell_type": "code",
   "execution_count": 41,
   "metadata": {},
   "outputs": [],
   "source": [
    "filtered_classes = models.Clase.objects.filter(\n",
    "    fecha__gte=date_ini,\n",
    "    fecha__lte=date_end\n",
    ")"
   ]
  },
  {
   "cell_type": "code",
   "execution_count": 81,
   "metadata": {},
   "outputs": [],
   "source": [
    "types_filters = {\n",
    "    \"Total\": None,\n",
    "    \"Realizadas\": {\"estado\": \"0\"},\n",
    "    \"Reemplazos\": {\"reemplazo__isnull\": False},\n",
    "    \"Ausencias\": {\"ausencia__isnull\": False},\n",
    "}\n",
    "chart_results = {}"
   ]
  },
  {
   "cell_type": "code",
   "execution_count": 82,
   "metadata": {},
   "outputs": [],
   "source": [
    "for _type, _filter in types_filter.items():\n",
    "    work_classes = filtered_classes\n",
    "    if _filter:\n",
    "        work_classes = filtered_classes.filter(**_filter)\n",
    "    \n",
    "    chart_data = work_classes.annotate(\n",
    "        date=TruncMonth(\"fecha\")\n",
    "    ).values(\n",
    "        \"date\"\n",
    "    ).annotate(\n",
    "        y=Count(\"id\")\n",
    "    ).order_by(\"-date\")\n",
    "    \n",
    "    chart_results[_type] = json.dumps(list(chart_data), cls=DjangoJSONEncoder)"
   ]
  },
  {
   "cell_type": "code",
   "execution_count": 83,
   "metadata": {},
   "outputs": [
    {
     "data": {
      "text/plain": [
       "b'{\"results\": {\"Total\": \"[{\\\\\"date\\\\\": \\\\\"2020-06-01\\\\\", \\\\\"y\\\\\": 61}, {\\\\\"date\\\\\": \\\\\"2020-05-01\\\\\", \\\\\"y\\\\\": 74}, {\\\\\"date\\\\\": \\\\\"2020-04-01\\\\\", \\\\\"y\\\\\": 88}, {\\\\\"date\\\\\": \\\\\"2020-03-01\\\\\", \\\\\"y\\\\\": 87}, {\\\\\"date\\\\\": \\\\\"2020-02-01\\\\\", \\\\\"y\\\\\": 40}]\", \"Realizadas\": \"[{\\\\\"date\\\\\": \\\\\"2020-06-01\\\\\", \\\\\"y\\\\\": 58}, {\\\\\"date\\\\\": \\\\\"2020-05-01\\\\\", \\\\\"y\\\\\": 65}, {\\\\\"date\\\\\": \\\\\"2020-04-01\\\\\", \\\\\"y\\\\\": 83}, {\\\\\"date\\\\\": \\\\\"2020-03-01\\\\\", \\\\\"y\\\\\": 84}, {\\\\\"date\\\\\": \\\\\"2020-02-01\\\\\", \\\\\"y\\\\\": 35}]\", \"Reemplazos\": \"[{\\\\\"date\\\\\": \\\\\"2020-06-01\\\\\", \\\\\"y\\\\\": 2}, {\\\\\"date\\\\\": \\\\\"2020-04-01\\\\\", \\\\\"y\\\\\": 1}, {\\\\\"date\\\\\": \\\\\"2020-03-01\\\\\", \\\\\"y\\\\\": 1}, {\\\\\"date\\\\\": \\\\\"2020-02-01\\\\\", \\\\\"y\\\\\": 1}]\", \"Ausencias\": \"[{\\\\\"date\\\\\": \\\\\"2020-05-01\\\\\", \\\\\"y\\\\\": 9}, {\\\\\"date\\\\\": \\\\\"2020-04-01\\\\\", \\\\\"y\\\\\": 3}, {\\\\\"date\\\\\": \\\\\"2020-03-01\\\\\", \\\\\"y\\\\\": 2}, {\\\\\"date\\\\\": \\\\\"2020-02-01\\\\\", \\\\\"y\\\\\": 4}]\"}}'"
      ]
     },
     "execution_count": 83,
     "metadata": {},
     "output_type": "execute_result"
    }
   ],
   "source": [
    "jr = JsonResponse({\"results\": chart_results})\n",
    "jr.content"
   ]
  }
 ],
 "metadata": {
  "kernelspec": {
   "display_name": "Django Shell-Plus",
   "language": "python",
   "name": "django_extensions"
  },
  "language_info": {
   "codemirror_mode": {
    "name": "ipython",
    "version": 3
   },
   "file_extension": ".py",
   "mimetype": "text/x-python",
   "name": "python",
   "nbconvert_exporter": "python",
   "pygments_lexer": "ipython3",
   "version": "3.8.2"
  }
 },
 "nbformat": 4,
 "nbformat_minor": 4
}
